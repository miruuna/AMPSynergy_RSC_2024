{
 "cells": [
  {
   "cell_type": "markdown",
   "metadata": {},
   "source": [
    "### Transform peptide distance data to interactions (1 or 0)\n",
    "* Transform the distances between the Calpha atoms in the peptides to 1 or 0 values depending on the interaction cutoff.\n",
    "* This will be used for further aggregation analyses"
   ]
  },
  {
   "cell_type": "code",
   "execution_count": null,
   "metadata": {},
   "outputs": [],
   "source": [
    "import MDAnalysis as mda\n",
    "import MDAnalysis.analysis.distances\n",
    "from MDAnalysis import transformations\n",
    "\n",
    "import numpy as np\n",
    "import pandas as pd\n",
    "import matplotlib.pyplot as plt\n",
    "from tqdm import tqdm\n",
    "import utils_mda.seq_manipulation as seq_manipulation\n",
    "from importlib import reload\n",
    "reload(seq_manipulation)\n",
    "\n",
    "from MDAnalysis.analysis import leaflet\n",
    "plt.style.use('default')"
   ]
  },
  {
   "cell_type": "code",
   "execution_count": 3,
   "metadata": {},
   "outputs": [],
   "source": [
    "def get_combinations(u, peptide, pep_num, pairs=None):\n",
    "    \"\"\"\n",
    "    Get list of residue residue combinations\n",
    "\n",
    "    Input: \n",
    "        peptide: list of strin\n",
    "            list of peptides\n",
    "        pepnum: int \n",
    "            number of peptides of each type\n",
    "        pairs: \n",
    "    \"\"\"\n",
    "    _, new_dict = seq_manipulation.get_aa_sequence(u, peptide, pep_num)\n",
    "    peptide_ranges = seq_manipulation.get_peptide_range(peptide, list(new_dict.keys())[0], pep_num)\n",
    "    comb_list = []\n",
    "    for i in peptide_ranges.keys():\n",
    "        for j in peptide_ranges.keys():\n",
    "            comb_list.extend([(x, y) for x in peptide_ranges[i] for y in peptide_ranges[j] if (y, x) not in comb_list])\n",
    "    return list(set(comb_list))"
   ]
  },
  {
   "cell_type": "code",
   "execution_count": 20,
   "metadata": {},
   "outputs": [
    {
     "name": "stdout",
     "output_type": "stream",
     "text": [
      "/Users/mirunaserian/Documents/PhD_finalyear/WF1a_WF2_synergy/data/distances_new/distance_over_time_WF1a.csv\n",
      "Writing file  ../data/interactions_data_new/WF1a_only_interactions_true_false_100timestep_cutoff5.5.csv\n",
      "/Users/mirunaserian/Documents/PhD_finalyear/WF1a_WF2_synergy/data/distances_new/distance_over_time_WF2.csv\n",
      "Writing file  ../data/interactions_data_new/WF2_only_interactions_true_false_100timestep_cutoff5.5.csv\n",
      "/Users/mirunaserian/Documents/PhD_finalyear/WF1a_WF2_synergy/data/distances_new/distance_over_time_WF1a_WF2.csv\n",
      "Writing file  ../data/interactions_data_new/WF1a_WF2_interactions_true_false_100timestep_cutoff5.5.csv\n"
     ]
    }
   ],
   "source": [
    "for peptide_type in [\"WF1a_only\", \"WF2_only\", \"WF1a_WF2\"]:\n",
    "    peptide_name = peptide_type.split('_')[0] if \"only\" in peptide_type else peptide_type\n",
    "    filen = f\"../data/distances_new/distance_over_time_{peptide_name}.csv\"\n",
    "    print(filen)\n",
    "    pd_concat = pd.read_csv(filen)\n",
    "    pd_concat = pd_concat.drop(columns=[\"Unnamed: 0\"])\n",
    "    pd_concat\n",
    "\n",
    "    pep_dict = {1: (1, 20),\n",
    "                2: (21, 40),\n",
    "                3: (41, 60),\n",
    "                4: (61, 80),\n",
    "                5: (81, 105),\n",
    "                6: (106, 130),\n",
    "                7: (131, 155),\n",
    "                8: (156, 180)}\n",
    "    if peptide_type == \"WF1a_only\":\n",
    "        pep_dict = {1: (1, 20),\n",
    "                2: (21, 40),\n",
    "                3: (41, 60),\n",
    "                4: (61, 80),\n",
    "                5: (81, 100),\n",
    "                6: (101,120),\n",
    "                7: (121, 140),\n",
    "                8: (141, 160),\n",
    "                }\n",
    "    if peptide_type == \"WF2_only\":\n",
    "        pep_dict = {1: (1, 25),\n",
    "                2: (26, 50),\n",
    "                3: (51, 75),\n",
    "                4: (76, 100),\n",
    "                5: (101, 125),\n",
    "                6: (126, 150),\n",
    "                7: (151, 175),\n",
    "                8: (176, 200)}\n",
    "    def map_res_to_pep(res):\n",
    "        for k, v in pep_dict.items():\n",
    "            if res in range(v[0], v[1]+1):\n",
    "                return f\"pep{k}\"\n",
    "\n",
    "\n",
    "    pd_concat[\"Peptide1\"] = pd_concat.apply(lambda x: map_res_to_pep(x[\"Peptide1\"]), axis=1)\n",
    "    pd_concat[\"Peptide2\"] = pd_concat.apply(lambda x: map_res_to_pep(x[\"Peptide2\"]), axis=1)\n",
    "\n",
    "    combinations_list = [\"pep1_pep2\", \"pep1_pep3\", \"pep1_pep4\", \"pep1_pep5\", \"pep1_pep6\", \"pep1_pep7\", \"pep1_pep8\",\n",
    "                        \"pep2_pep3\", \"pep2_pep4\", \"pep2_pep5\", \"pep2_pep6\", \"pep2_pep7\", \"pep2_pep8\",\n",
    "                        \"pep3_pep4\", \"pep3_pep5\", \"pep3_pep6\", \"pep3_pep7\", \"pep3_pep8\",\n",
    "                        \"pep4_pep5\", \"pep4_pep6\", \"pep4_pep7\", \"pep4_pep8\",\n",
    "                        \"pep5_pep6\", \"pep5_pep7\", \"pep5_pep8\",\n",
    "                        \"pep6_pep7\", \"pep6_pep8\",\n",
    "                        \"pep7_pep8\"]\n",
    "    df_interactions2 = pd_concat.copy()\n",
    "    df_interactions2[\"Peptide_Pair\"] = df_interactions2[\"Peptide1\"] + \"_\" + df_interactions2[\"Peptide2\"]\n",
    "    df_interactions2 = df_interactions2[df_interactions2[\"Peptide_Pair\"].isin(combinations_list)]\n",
    "    df_interactions2 = df_interactions2.drop(columns=[\"Peptide1\", \"Peptide2\"])\n",
    "    df_interactions2 = df_interactions2.groupby([\"Peptide_Pair\", \"Time(ns)\"])[\"mindist\"].min().unstack(-1)\n",
    "    df_interactions2 = df_interactions2.astype('float')\n",
    "\n",
    "    peptide_name = peptide_type\n",
    "\n",
    "    \n",
    "    for cutoff in [6]:\n",
    "        df_interactions_to_save = df_interactions2.mask(df_interactions2>cutoff, 0)\n",
    "        df_interactions_to_save = df_interactions_to_save.mask(df_interactions_to_save>0, 1)\n",
    "        file_to_write = f\"../data/interactions_data_new/{peptide_type}_interactions_true_false_100timestep_cutoff{cutoff}.csv\"\n",
    "        df_interactions_to_save.to_csv(file_to_write)\n",
    "        print(\"Writing file \", file_to_write)\n"
   ]
  },
  {
   "cell_type": "code",
   "execution_count": null,
   "metadata": {},
   "outputs": [],
   "source": []
  }
 ],
 "metadata": {
  "kernelspec": {
   "display_name": "py39_umap",
   "language": "python",
   "name": "python3"
  },
  "language_info": {
   "codemirror_mode": {
    "name": "ipython",
    "version": 3
   },
   "file_extension": ".py",
   "mimetype": "text/x-python",
   "name": "python",
   "nbconvert_exporter": "python",
   "pygments_lexer": "ipython3",
   "version": "3.9.16"
  }
 },
 "nbformat": 4,
 "nbformat_minor": 2
}
